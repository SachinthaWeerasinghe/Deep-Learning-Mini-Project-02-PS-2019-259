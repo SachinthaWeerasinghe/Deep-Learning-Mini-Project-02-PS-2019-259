{
  "nbformat": 4,
  "nbformat_minor": 0,
  "metadata": {
    "colab": {
      "provenance": [],
      "authorship_tag": "ABX9TyMzXU1C5gmo/DBvxMh7w+Yc",
      "include_colab_link": true
    },
    "kernelspec": {
      "name": "python3",
      "display_name": "Python 3"
    },
    "language_info": {
      "name": "python"
    }
  },
  "cells": [
    {
      "cell_type": "markdown",
      "metadata": {
        "id": "view-in-github",
        "colab_type": "text"
      },
      "source": [
        "<a href=\"https://colab.research.google.com/github/SachinthaWeerasinghe/Deep-Learning-Mini-Project-02-PS-2019-259/blob/main/PS_2019_259_COSC44323_MiniProject2.ipynb\" target=\"_parent\"><img src=\"https://colab.research.google.com/assets/colab-badge.svg\" alt=\"Open In Colab\"/></a>"
      ]
    },
    {
      "cell_type": "markdown",
      "source": [
        "# **COSC 44323 - Introduction To Deep Learning**\n",
        "# **Mini Project - 2**\n",
        "\n",
        "#**Student Number - PS/2019/259**\n",
        "#**Name - S.A. WEERASINGHE**"
      ],
      "metadata": {
        "id": "U6DDniFof-js"
      }
    },
    {
      "cell_type": "markdown",
      "source": [
        "**Selected Company - Hatton National Bank PLC**\n",
        "\n",
        "The Historical Share Price Data from 01/01/ 2019 to 31/12/2023\n",
        "\n",
        " LSTM – RNN model  to forecast stock price values"
      ],
      "metadata": {
        "id": "i3d3oZeJgxsY"
      }
    },
    {
      "cell_type": "markdown",
      "source": [
        "# **Import Necessary Libraries**"
      ],
      "metadata": {
        "id": "OK6W-Mfazylv"
      }
    },
    {
      "cell_type": "code",
      "execution_count": null,
      "metadata": {
        "id": "NqWwU_TsbA3D"
      },
      "outputs": [],
      "source": [
        "import numpy as np\n",
        "import pandas as pd\n",
        "import matplotlib.pyplot as plt\n",
        "from sklearn.preprocessing import MinMaxScaler\n",
        "from tensorflow.keras.models import Sequential\n",
        "from tensorflow.keras.layers import LSTM, Dense\n",
        "\n"
      ]
    },
    {
      "cell_type": "markdown",
      "source": [
        "# **Mount Google Drive**"
      ],
      "metadata": {
        "id": "FC_O6MWXXKns"
      }
    },
    {
      "cell_type": "code",
      "source": [
        "from google.colab import drive\n",
        "import pandas as pd\n",
        "import numpy as np\n",
        "from sklearn.preprocessing import MinMaxScaler\n",
        "\n",
        "drive.mount('/content/drive')"
      ],
      "metadata": {
        "colab": {
          "base_uri": "https://localhost:8080/"
        },
        "id": "neGexKhJbJHe",
        "outputId": "5f730f34-82f1-4ae3-d612-197e6ec25219"
      },
      "execution_count": null,
      "outputs": [
        {
          "output_type": "stream",
          "name": "stdout",
          "text": [
            "Drive already mounted at /content/drive; to attempt to forcibly remount, call drive.mount(\"/content/drive\", force_remount=True).\n"
          ]
        }
      ]
    },
    {
      "cell_type": "markdown",
      "source": [
        "# **Specify the path to the CSV file of the dataset on Google Drive**"
      ],
      "metadata": {
        "id": "d5vjwiqfX692"
      }
    },
    {
      "cell_type": "code",
      "source": [
        "file_path = '/content/drive/MyDrive/PS-2019-259-COSC44323-MiniProject2/HNB-Historical-Data.csv'"
      ],
      "metadata": {
        "id": "Tib-PvO1X6IK"
      },
      "execution_count": null,
      "outputs": []
    },
    {
      "cell_type": "markdown",
      "source": [
        "# **Load data**"
      ],
      "metadata": {
        "id": "XLspX4dwaJre"
      }
    },
    {
      "cell_type": "code",
      "source": [
        "data = pd.read_csv(file_path)\n",
        "prices = data['Price'].values.reshape(-1, 1)"
      ],
      "metadata": {
        "id": "c7Vr5pETaLKm"
      },
      "execution_count": null,
      "outputs": []
    },
    {
      "cell_type": "markdown",
      "source": [
        "# **Normalize data**"
      ],
      "metadata": {
        "id": "M_xYm5cpaPjg"
      }
    },
    {
      "cell_type": "code",
      "source": [
        "scaler = MinMaxScaler(feature_range=(0, 1))\n",
        "prices_normalized = scaler.fit_transform(prices)"
      ],
      "metadata": {
        "id": "UpnH_prjaWbg"
      },
      "execution_count": null,
      "outputs": []
    },
    {
      "cell_type": "markdown",
      "source": [
        "# **Split data into training and testing sets**"
      ],
      "metadata": {
        "id": "ux8S8bSKadHB"
      }
    },
    {
      "cell_type": "code",
      "source": [
        "split_ratio = 0.8\n",
        "split_index = int(len(prices_normalized) * split_ratio)\n",
        "train_data = prices_normalized[:split_index]\n",
        "test_data = prices_normalized[split_index:]"
      ],
      "metadata": {
        "id": "6EqbBF5bacQZ"
      },
      "execution_count": null,
      "outputs": []
    },
    {
      "cell_type": "markdown",
      "source": [
        "# **Prepare Data for LSTM**"
      ],
      "metadata": {
        "id": "1HONinrBZgvS"
      }
    },
    {
      "cell_type": "code",
      "source": [
        "def create_dataset(dataset, time_steps=1):\n",
        "    x, y = [], []\n",
        "    for i in range(len(dataset) - time_steps):\n",
        "        a = dataset[i:(i + time_steps), 0]\n",
        "        x.append(a)\n",
        "        y.append(dataset[i + time_steps, 0])\n",
        "    return np.array(x), np.array(y)\n",
        "\n",
        "time_steps = 10\n",
        "X_train, y_train = create_dataset(train_data, time_steps)\n",
        "X_test, y_test = create_dataset(test_data, time_steps)\n",
        "\n",
        "# Reshape input data to be in the form [samples, time steps, features]\n",
        "X_train = np.reshape(X_train, (X_train.shape[0], X_train.shape[1], 1))\n",
        "X_test = np.reshape(X_test, (X_test.shape[0], X_test.shape[1], 1))\n"
      ],
      "metadata": {
        "id": "7G4ubmeRfNL8"
      },
      "execution_count": null,
      "outputs": []
    },
    {
      "cell_type": "markdown",
      "source": [
        "# **Build LSTM Model**"
      ],
      "metadata": {
        "id": "qsSuVRgNa0Je"
      }
    },
    {
      "cell_type": "code",
      "source": [
        "model = Sequential()\n",
        "model.add(LSTM(units=50, return_sequences=True, input_shape=(X_train.shape[1], 1)))\n",
        "model.add(LSTM(units=50, return_sequences=True))\n",
        "model.add(LSTM(units=50))\n",
        "model.add(Dense(units=1))\n",
        "\n",
        "model.compile(optimizer='adam', loss='mean_squared_error')\n",
        "model.fit(X_train, y_train, epochs=50, batch_size=32)\n"
      ],
      "metadata": {
        "colab": {
          "base_uri": "https://localhost:8080/"
        },
        "id": "ZTHgWO1hfPtI",
        "outputId": "e4ea33bc-4950-475b-b7f2-33b48c704c10"
      },
      "execution_count": null,
      "outputs": [
        {
          "output_type": "stream",
          "name": "stdout",
          "text": [
            "Epoch 1/50\n",
            "29/29 [==============================] - 7s 18ms/step - loss: 0.0392\n",
            "Epoch 2/50\n",
            "29/29 [==============================] - 1s 19ms/step - loss: 0.0048\n",
            "Epoch 3/50\n",
            "29/29 [==============================] - 1s 18ms/step - loss: 0.0028\n",
            "Epoch 4/50\n",
            "29/29 [==============================] - 1s 29ms/step - loss: 0.0027\n",
            "Epoch 5/50\n",
            "29/29 [==============================] - 1s 29ms/step - loss: 0.0027\n",
            "Epoch 6/50\n",
            "29/29 [==============================] - 1s 28ms/step - loss: 0.0027\n",
            "Epoch 7/50\n",
            "29/29 [==============================] - 1s 30ms/step - loss: 0.0027\n",
            "Epoch 8/50\n",
            "29/29 [==============================] - 1s 26ms/step - loss: 0.0028\n",
            "Epoch 9/50\n",
            "29/29 [==============================] - 1s 19ms/step - loss: 0.0025\n",
            "Epoch 10/50\n",
            "29/29 [==============================] - 1s 19ms/step - loss: 0.0025\n",
            "Epoch 11/50\n",
            "29/29 [==============================] - 1s 20ms/step - loss: 0.0025\n",
            "Epoch 12/50\n",
            "29/29 [==============================] - 1s 18ms/step - loss: 0.0030\n",
            "Epoch 13/50\n",
            "29/29 [==============================] - 1s 19ms/step - loss: 0.0025\n",
            "Epoch 14/50\n",
            "29/29 [==============================] - 1s 18ms/step - loss: 0.0024\n",
            "Epoch 15/50\n",
            "29/29 [==============================] - 1s 19ms/step - loss: 0.0024\n",
            "Epoch 16/50\n",
            "29/29 [==============================] - 1s 19ms/step - loss: 0.0023\n",
            "Epoch 17/50\n",
            "29/29 [==============================] - 1s 19ms/step - loss: 0.0022\n",
            "Epoch 18/50\n",
            "29/29 [==============================] - 1s 19ms/step - loss: 0.0020\n",
            "Epoch 19/50\n",
            "29/29 [==============================] - 1s 18ms/step - loss: 0.0019\n",
            "Epoch 20/50\n",
            "29/29 [==============================] - 1s 19ms/step - loss: 0.0018\n",
            "Epoch 21/50\n",
            "29/29 [==============================] - 1s 18ms/step - loss: 0.0019\n",
            "Epoch 22/50\n",
            "29/29 [==============================] - 1s 19ms/step - loss: 0.0018\n",
            "Epoch 23/50\n",
            "29/29 [==============================] - 1s 18ms/step - loss: 0.0015\n",
            "Epoch 24/50\n",
            "29/29 [==============================] - 1s 19ms/step - loss: 0.0015\n",
            "Epoch 25/50\n",
            "29/29 [==============================] - 1s 18ms/step - loss: 0.0018\n",
            "Epoch 26/50\n",
            "29/29 [==============================] - 1s 43ms/step - loss: 0.0017\n",
            "Epoch 27/50\n",
            "29/29 [==============================] - 2s 57ms/step - loss: 0.0016\n",
            "Epoch 28/50\n",
            "29/29 [==============================] - 1s 49ms/step - loss: 0.0013\n",
            "Epoch 29/50\n",
            "29/29 [==============================] - 1s 47ms/step - loss: 0.0012\n",
            "Epoch 30/50\n",
            "29/29 [==============================] - 1s 40ms/step - loss: 0.0012\n",
            "Epoch 31/50\n",
            "29/29 [==============================] - 1s 37ms/step - loss: 0.0012\n",
            "Epoch 32/50\n",
            "29/29 [==============================] - 1s 39ms/step - loss: 0.0011\n",
            "Epoch 33/50\n",
            "29/29 [==============================] - 1s 49ms/step - loss: 0.0012\n",
            "Epoch 34/50\n",
            "29/29 [==============================] - 1s 32ms/step - loss: 0.0011\n",
            "Epoch 35/50\n",
            "29/29 [==============================] - 1s 34ms/step - loss: 0.0011\n",
            "Epoch 36/50\n",
            "29/29 [==============================] - 1s 49ms/step - loss: 0.0011\n",
            "Epoch 37/50\n",
            "29/29 [==============================] - 1s 24ms/step - loss: 0.0010\n",
            "Epoch 38/50\n",
            "29/29 [==============================] - 1s 20ms/step - loss: 0.0011\n",
            "Epoch 39/50\n",
            "29/29 [==============================] - 1s 30ms/step - loss: 9.6732e-04\n",
            "Epoch 40/50\n",
            "29/29 [==============================] - 1s 31ms/step - loss: 9.4221e-04\n",
            "Epoch 41/50\n",
            "29/29 [==============================] - 1s 33ms/step - loss: 8.8257e-04\n",
            "Epoch 42/50\n",
            "29/29 [==============================] - 1s 34ms/step - loss: 9.1087e-04\n",
            "Epoch 43/50\n",
            "29/29 [==============================] - 1s 23ms/step - loss: 8.5123e-04\n",
            "Epoch 44/50\n",
            "29/29 [==============================] - 1s 20ms/step - loss: 8.6788e-04\n",
            "Epoch 45/50\n",
            "29/29 [==============================] - 1s 19ms/step - loss: 8.4651e-04\n",
            "Epoch 46/50\n",
            "29/29 [==============================] - 1s 19ms/step - loss: 8.6261e-04\n",
            "Epoch 47/50\n",
            "29/29 [==============================] - 1s 20ms/step - loss: 8.3294e-04\n",
            "Epoch 48/50\n",
            "29/29 [==============================] - 1s 21ms/step - loss: 8.6659e-04\n",
            "Epoch 49/50\n",
            "29/29 [==============================] - 1s 20ms/step - loss: 8.4646e-04\n",
            "Epoch 50/50\n",
            "29/29 [==============================] - 1s 19ms/step - loss: 9.0782e-04\n"
          ]
        },
        {
          "output_type": "execute_result",
          "data": {
            "text/plain": [
              "<keras.src.callbacks.History at 0x7d57fdc4a9b0>"
            ]
          },
          "metadata": {},
          "execution_count": 37
        }
      ]
    },
    {
      "cell_type": "markdown",
      "source": [
        "# **Predictions**"
      ],
      "metadata": {
        "id": "4Kjl8aKua5K-"
      }
    },
    {
      "cell_type": "code",
      "source": [
        "predicted_stock_prices = model.predict(X_test)\n",
        "predicted_stock_prices = scaler.inverse_transform(predicted_stock_prices.reshape(-1, 1))\n",
        "\n",
        "# Plot the results\n",
        "plt.plot(data['Date'][split_index + time_steps:], predicted_stock_prices, label='Predicted Prices')\n",
        "plt.plot(data['Date'][split_index + time_steps:], scaler.inverse_transform(test_data[time_steps:].reshape(-1, 1)),\n",
        "         label='Actual Prices')\n",
        "plt.xlabel('Date')\n",
        "plt.ylabel('Stock Price')\n",
        "plt.legend()\n",
        "plt.show()\n"
      ],
      "metadata": {
        "colab": {
          "base_uri": "https://localhost:8080/",
          "height": 466
        },
        "id": "q1Lzz6gAfjRL",
        "outputId": "9dd0b083-d11e-4da6-c306-05eb37f9961a"
      },
      "execution_count": null,
      "outputs": [
        {
          "output_type": "stream",
          "name": "stdout",
          "text": [
            "7/7 [==============================] - 1s 12ms/step\n"
          ]
        },
        {
          "output_type": "display_data",
          "data": {
            "text/plain": [
              "<Figure size 640x480 with 1 Axes>"
            ],
            "image/png": "[encoded data removed]"
          },
          "metadata": {}
        }
      ]
    },
    {
      "cell_type": "markdown",
      "source": [
        "# **Comparison of the Predicted Prices with the Actual Prices**"
      ],
      "metadata": {
        "id": "4Ra9SiZFc63L"
      }
    },
    {
      "cell_type": "code",
      "source": [
        "# Combine actual and predicted prices into a DataFrame for easier printing\n",
        "results_df = pd.DataFrame({\n",
        "    'Date': data['Date'][split_index + time_steps:],\n",
        "    'Actual Prices': scaler.inverse_transform(test_data[time_steps:].reshape(-1, 1)).flatten(),\n",
        "    'Predicted Prices': predicted_stock_prices.flatten()\n",
        "})\n",
        "\n",
        "# Print the DataFrame\n",
        "print(results_df)\n"
      ],
      "metadata": {
        "colab": {
          "base_uri": "https://localhost:8080/"
        },
        "id": "BvLeV01Icv7D",
        "outputId": "8f647f75-a16f-4247-95cb-65729b2182f8"
      },
      "execution_count": null,
      "outputs": [
        {
          "output_type": "stream",
          "name": "stdout",
          "text": [
            "            Date  Actual Prices  Predicted Prices\n",
            "940   12/03/2019         159.05        160.091263\n",
            "941   12/02/2019         160.03        160.647171\n",
            "942   11/29/2019         160.48        161.329971\n",
            "943   11/28/2019         160.39        161.993546\n",
            "944   11/27/2019         159.40        162.366592\n",
            "...          ...            ...               ...\n",
            "1158  01/08/2019         180.62        182.213852\n",
            "1159  01/07/2019         181.50        182.046875\n",
            "1160  01/04/2019         184.16        182.474503\n",
            "1161  01/03/2019         181.50        184.058578\n",
            "1162  01/02/2019         184.60        184.286224\n",
            "\n",
            "[223 rows x 3 columns]\n"
          ]
        }
      ]
    },
    {
      "cell_type": "markdown",
      "source": [
        "# **Assess the performance of the model by computing the Root Mean Squared Error (RMSE)**"
      ],
      "metadata": {
        "id": "I5YX3IOKa__Q"
      }
    },
    {
      "cell_type": "code",
      "source": [
        "from sklearn.metrics import mean_squared_error\n",
        "from math import sqrt\n",
        "\n",
        "# Make predictions on the test data\n",
        "predicted_stock_prices = model.predict(X_test)\n",
        "predicted_stock_prices = scaler.inverse_transform(predicted_stock_prices.reshape(-1, 1))\n",
        "\n",
        "# Inverse transform the original test data for comparison\n",
        "actual_stock_prices = scaler.inverse_transform(test_data[time_steps:].reshape(-1, 1))\n",
        "\n",
        "# Calculate RMSE\n",
        "rmse = sqrt(mean_squared_error(actual_stock_prices, predicted_stock_prices))\n",
        "print(f'Root Mean Squared Error (RMSE): {rmse}')"
      ],
      "metadata": {
        "colab": {
          "base_uri": "https://localhost:8080/"
        },
        "id": "913ZGJC3f-Wc",
        "outputId": "5fb9d944-b98e-44ef-c77e-8b3ce0cc97e6"
      },
      "execution_count": null,
      "outputs": [
        {
          "output_type": "stream",
          "name": "stdout",
          "text": [
            "7/7 [==============================] - 0s 7ms/step\n",
            "Root Mean Squared Error (RMSE): 3.535003072631503\n"
          ]
        }
      ]
    }
  ]
}